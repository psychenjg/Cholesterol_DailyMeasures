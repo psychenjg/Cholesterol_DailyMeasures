{
 "cells": [
  {
   "cell_type": "code",
   "execution_count": 1,
   "id": "9170e68e",
   "metadata": {},
   "outputs": [],
   "source": [
    "import pandas as pd\n",
    "import numpy as np\n",
    "import matplotlib.pyplot as plt\n",
    "import seaborn as sns\n",
    "import xgboost as xgb\n",
    "from sklearn.model_selection import RepeatedStratifiedKFold,GridSearchCV,cross_validate,permutation_test_score\n",
    "from sklearn.linear_model import Lasso\n",
    "from functools import reduce"
   ]
  },
  {
   "cell_type": "code",
   "execution_count": 2,
   "id": "81fcb5e9",
   "metadata": {
    "scrolled": true
   },
   "outputs": [
    {
     "data": {
      "text/html": [
       "<div>\n",
       "<style scoped>\n",
       "    .dataframe tbody tr th:only-of-type {\n",
       "        vertical-align: middle;\n",
       "    }\n",
       "\n",
       "    .dataframe tbody tr th {\n",
       "        vertical-align: top;\n",
       "    }\n",
       "\n",
       "    .dataframe thead th {\n",
       "        text-align: right;\n",
       "    }\n",
       "</style>\n",
       "<table border=\"1\" class=\"dataframe\">\n",
       "  <thead>\n",
       "    <tr style=\"text-align: right;\">\n",
       "      <th></th>\n",
       "      <th>SEQN</th>\n",
       "      <th>SDDSRVYR</th>\n",
       "      <th>RIDSTATR</th>\n",
       "      <th>RIAGENDR</th>\n",
       "      <th>RIDAGEYR</th>\n",
       "      <th>RIDAGEMN</th>\n",
       "      <th>RIDRETH1</th>\n",
       "      <th>RIDRETH3</th>\n",
       "      <th>RIDEXMON</th>\n",
       "      <th>RIDEXAGM</th>\n",
       "      <th>...</th>\n",
       "      <th>DMDHREDZ</th>\n",
       "      <th>DMDHRMAZ</th>\n",
       "      <th>DMDHSEDZ</th>\n",
       "      <th>WTINT2YR</th>\n",
       "      <th>WTMEC2YR</th>\n",
       "      <th>SDMVPSU</th>\n",
       "      <th>SDMVSTRA</th>\n",
       "      <th>INDHHIN2</th>\n",
       "      <th>INDFMIN2</th>\n",
       "      <th>INDFMPIR</th>\n",
       "    </tr>\n",
       "  </thead>\n",
       "  <tbody>\n",
       "    <tr>\n",
       "      <th>0</th>\n",
       "      <td>93703.0</td>\n",
       "      <td>10.0</td>\n",
       "      <td>2.0</td>\n",
       "      <td>2.0</td>\n",
       "      <td>2.0</td>\n",
       "      <td>NaN</td>\n",
       "      <td>5.0</td>\n",
       "      <td>6.0</td>\n",
       "      <td>2.0</td>\n",
       "      <td>27.0</td>\n",
       "      <td>...</td>\n",
       "      <td>3.0</td>\n",
       "      <td>1.0</td>\n",
       "      <td>3.0</td>\n",
       "      <td>9246.491865</td>\n",
       "      <td>8539.731348</td>\n",
       "      <td>2.0</td>\n",
       "      <td>145.0</td>\n",
       "      <td>15.0</td>\n",
       "      <td>15.0</td>\n",
       "      <td>5.00</td>\n",
       "    </tr>\n",
       "    <tr>\n",
       "      <th>1</th>\n",
       "      <td>93704.0</td>\n",
       "      <td>10.0</td>\n",
       "      <td>2.0</td>\n",
       "      <td>1.0</td>\n",
       "      <td>2.0</td>\n",
       "      <td>NaN</td>\n",
       "      <td>3.0</td>\n",
       "      <td>3.0</td>\n",
       "      <td>1.0</td>\n",
       "      <td>33.0</td>\n",
       "      <td>...</td>\n",
       "      <td>3.0</td>\n",
       "      <td>1.0</td>\n",
       "      <td>2.0</td>\n",
       "      <td>37338.768343</td>\n",
       "      <td>42566.614750</td>\n",
       "      <td>1.0</td>\n",
       "      <td>143.0</td>\n",
       "      <td>15.0</td>\n",
       "      <td>15.0</td>\n",
       "      <td>5.00</td>\n",
       "    </tr>\n",
       "    <tr>\n",
       "      <th>2</th>\n",
       "      <td>93705.0</td>\n",
       "      <td>10.0</td>\n",
       "      <td>2.0</td>\n",
       "      <td>2.0</td>\n",
       "      <td>66.0</td>\n",
       "      <td>NaN</td>\n",
       "      <td>4.0</td>\n",
       "      <td>4.0</td>\n",
       "      <td>2.0</td>\n",
       "      <td>NaN</td>\n",
       "      <td>...</td>\n",
       "      <td>1.0</td>\n",
       "      <td>2.0</td>\n",
       "      <td>NaN</td>\n",
       "      <td>8614.571172</td>\n",
       "      <td>8338.419786</td>\n",
       "      <td>2.0</td>\n",
       "      <td>145.0</td>\n",
       "      <td>3.0</td>\n",
       "      <td>3.0</td>\n",
       "      <td>0.82</td>\n",
       "    </tr>\n",
       "    <tr>\n",
       "      <th>3</th>\n",
       "      <td>93706.0</td>\n",
       "      <td>10.0</td>\n",
       "      <td>2.0</td>\n",
       "      <td>1.0</td>\n",
       "      <td>18.0</td>\n",
       "      <td>NaN</td>\n",
       "      <td>5.0</td>\n",
       "      <td>6.0</td>\n",
       "      <td>2.0</td>\n",
       "      <td>222.0</td>\n",
       "      <td>...</td>\n",
       "      <td>3.0</td>\n",
       "      <td>1.0</td>\n",
       "      <td>2.0</td>\n",
       "      <td>8548.632619</td>\n",
       "      <td>8723.439814</td>\n",
       "      <td>2.0</td>\n",
       "      <td>134.0</td>\n",
       "      <td>NaN</td>\n",
       "      <td>NaN</td>\n",
       "      <td>NaN</td>\n",
       "    </tr>\n",
       "    <tr>\n",
       "      <th>4</th>\n",
       "      <td>93707.0</td>\n",
       "      <td>10.0</td>\n",
       "      <td>2.0</td>\n",
       "      <td>1.0</td>\n",
       "      <td>13.0</td>\n",
       "      <td>NaN</td>\n",
       "      <td>5.0</td>\n",
       "      <td>7.0</td>\n",
       "      <td>2.0</td>\n",
       "      <td>158.0</td>\n",
       "      <td>...</td>\n",
       "      <td>2.0</td>\n",
       "      <td>1.0</td>\n",
       "      <td>3.0</td>\n",
       "      <td>6769.344567</td>\n",
       "      <td>7064.609730</td>\n",
       "      <td>1.0</td>\n",
       "      <td>138.0</td>\n",
       "      <td>10.0</td>\n",
       "      <td>10.0</td>\n",
       "      <td>1.88</td>\n",
       "    </tr>\n",
       "  </tbody>\n",
       "</table>\n",
       "<p>5 rows × 46 columns</p>\n",
       "</div>"
      ],
      "text/plain": [
       "      SEQN  SDDSRVYR  RIDSTATR  RIAGENDR  RIDAGEYR  RIDAGEMN  RIDRETH1  \\\n",
       "0  93703.0      10.0       2.0       2.0       2.0       NaN       5.0   \n",
       "1  93704.0      10.0       2.0       1.0       2.0       NaN       3.0   \n",
       "2  93705.0      10.0       2.0       2.0      66.0       NaN       4.0   \n",
       "3  93706.0      10.0       2.0       1.0      18.0       NaN       5.0   \n",
       "4  93707.0      10.0       2.0       1.0      13.0       NaN       5.0   \n",
       "\n",
       "   RIDRETH3  RIDEXMON  RIDEXAGM  ...  DMDHREDZ  DMDHRMAZ  DMDHSEDZ  \\\n",
       "0       6.0       2.0      27.0  ...       3.0       1.0       3.0   \n",
       "1       3.0       1.0      33.0  ...       3.0       1.0       2.0   \n",
       "2       4.0       2.0       NaN  ...       1.0       2.0       NaN   \n",
       "3       6.0       2.0     222.0  ...       3.0       1.0       2.0   \n",
       "4       7.0       2.0     158.0  ...       2.0       1.0       3.0   \n",
       "\n",
       "       WTINT2YR      WTMEC2YR  SDMVPSU  SDMVSTRA  INDHHIN2  INDFMIN2  INDFMPIR  \n",
       "0   9246.491865   8539.731348      2.0     145.0      15.0      15.0      5.00  \n",
       "1  37338.768343  42566.614750      1.0     143.0      15.0      15.0      5.00  \n",
       "2   8614.571172   8338.419786      2.0     145.0       3.0       3.0      0.82  \n",
       "3   8548.632619   8723.439814      2.0     134.0       NaN       NaN       NaN  \n",
       "4   6769.344567   7064.609730      1.0     138.0      10.0      10.0      1.88  \n",
       "\n",
       "[5 rows x 46 columns]"
      ]
     },
     "execution_count": 2,
     "metadata": {},
     "output_type": "execute_result"
    }
   ],
   "source": [
    "demo = pd.read_sas('DEMO_J.XPT')\n",
    "demo.head()"
   ]
  },
  {
   "cell_type": "code",
   "execution_count": 3,
   "id": "2fc37053",
   "metadata": {},
   "outputs": [
    {
     "data": {
      "text/plain": [
       "Index(['SEQN', 'SDDSRVYR', 'RIDSTATR', 'RIAGENDR', 'RIDAGEYR', 'RIDAGEMN',\n",
       "       'RIDRETH1', 'RIDRETH3', 'RIDEXMON', 'RIDEXAGM', 'DMQMILIZ', 'DMQADFC',\n",
       "       'DMDBORN4', 'DMDCITZN', 'DMDYRSUS', 'DMDEDUC3', 'DMDEDUC2', 'DMDMARTL',\n",
       "       'RIDEXPRG', 'SIALANG', 'SIAPROXY', 'SIAINTRP', 'FIALANG', 'FIAPROXY',\n",
       "       'FIAINTRP', 'MIALANG', 'MIAPROXY', 'MIAINTRP', 'AIALANGA', 'DMDHHSIZ',\n",
       "       'DMDFMSIZ', 'DMDHHSZA', 'DMDHHSZB', 'DMDHHSZE', 'DMDHRGND', 'DMDHRAGZ',\n",
       "       'DMDHREDZ', 'DMDHRMAZ', 'DMDHSEDZ', 'WTINT2YR', 'WTMEC2YR', 'SDMVPSU',\n",
       "       'SDMVSTRA', 'INDHHIN2', 'INDFMIN2', 'INDFMPIR'],\n",
       "      dtype='object')"
      ]
     },
     "execution_count": 3,
     "metadata": {},
     "output_type": "execute_result"
    }
   ],
   "source": [
    "demo.columns"
   ]
  },
  {
   "cell_type": "code",
   "execution_count": 4,
   "id": "1ad1eb99",
   "metadata": {},
   "outputs": [
    {
     "data": {
      "text/html": [
       "<div>\n",
       "<style scoped>\n",
       "    .dataframe tbody tr th:only-of-type {\n",
       "        vertical-align: middle;\n",
       "    }\n",
       "\n",
       "    .dataframe tbody tr th {\n",
       "        vertical-align: top;\n",
       "    }\n",
       "\n",
       "    .dataframe thead th {\n",
       "        text-align: right;\n",
       "    }\n",
       "</style>\n",
       "<table border=\"1\" class=\"dataframe\">\n",
       "  <thead>\n",
       "    <tr style=\"text-align: right;\">\n",
       "      <th></th>\n",
       "      <th>SEQN</th>\n",
       "      <th>WTSAF2YR</th>\n",
       "      <th>LBXTR</th>\n",
       "      <th>LBDTRSI</th>\n",
       "      <th>LBDLDL</th>\n",
       "      <th>LBDLDLSI</th>\n",
       "      <th>LBDLDLM</th>\n",
       "      <th>LBDLDMSI</th>\n",
       "      <th>LBDLDLN</th>\n",
       "      <th>LBDLDNSI</th>\n",
       "    </tr>\n",
       "  </thead>\n",
       "  <tbody>\n",
       "    <tr>\n",
       "      <th>0</th>\n",
       "      <td>93708.0</td>\n",
       "      <td>2.565368e+04</td>\n",
       "      <td>58.0</td>\n",
       "      <td>0.655</td>\n",
       "      <td>109.0</td>\n",
       "      <td>2.819</td>\n",
       "      <td>107.0</td>\n",
       "      <td>2.767</td>\n",
       "      <td>111.0</td>\n",
       "      <td>2.870</td>\n",
       "    </tr>\n",
       "    <tr>\n",
       "      <th>1</th>\n",
       "      <td>93711.0</td>\n",
       "      <td>2.922605e+04</td>\n",
       "      <td>48.0</td>\n",
       "      <td>0.542</td>\n",
       "      <td>156.0</td>\n",
       "      <td>4.034</td>\n",
       "      <td>152.0</td>\n",
       "      <td>3.931</td>\n",
       "      <td>158.0</td>\n",
       "      <td>4.086</td>\n",
       "    </tr>\n",
       "    <tr>\n",
       "      <th>2</th>\n",
       "      <td>93717.0</td>\n",
       "      <td>1.371510e+05</td>\n",
       "      <td>102.0</td>\n",
       "      <td>1.152</td>\n",
       "      <td>140.0</td>\n",
       "      <td>3.620</td>\n",
       "      <td>138.0</td>\n",
       "      <td>3.569</td>\n",
       "      <td>142.0</td>\n",
       "      <td>3.672</td>\n",
       "    </tr>\n",
       "    <tr>\n",
       "      <th>3</th>\n",
       "      <td>93718.0</td>\n",
       "      <td>5.888331e+04</td>\n",
       "      <td>46.0</td>\n",
       "      <td>0.519</td>\n",
       "      <td>80.0</td>\n",
       "      <td>2.069</td>\n",
       "      <td>77.0</td>\n",
       "      <td>1.991</td>\n",
       "      <td>79.0</td>\n",
       "      <td>2.043</td>\n",
       "    </tr>\n",
       "    <tr>\n",
       "      <th>4</th>\n",
       "      <td>93719.0</td>\n",
       "      <td>5.397605e-79</td>\n",
       "      <td>80.0</td>\n",
       "      <td>0.903</td>\n",
       "      <td>35.0</td>\n",
       "      <td>0.905</td>\n",
       "      <td>35.0</td>\n",
       "      <td>0.905</td>\n",
       "      <td>35.0</td>\n",
       "      <td>0.905</td>\n",
       "    </tr>\n",
       "  </tbody>\n",
       "</table>\n",
       "</div>"
      ],
      "text/plain": [
       "      SEQN      WTSAF2YR  LBXTR  LBDTRSI  LBDLDL  LBDLDLSI  LBDLDLM  LBDLDMSI  \\\n",
       "0  93708.0  2.565368e+04   58.0    0.655   109.0     2.819    107.0     2.767   \n",
       "1  93711.0  2.922605e+04   48.0    0.542   156.0     4.034    152.0     3.931   \n",
       "2  93717.0  1.371510e+05  102.0    1.152   140.0     3.620    138.0     3.569   \n",
       "3  93718.0  5.888331e+04   46.0    0.519    80.0     2.069     77.0     1.991   \n",
       "4  93719.0  5.397605e-79   80.0    0.903    35.0     0.905     35.0     0.905   \n",
       "\n",
       "   LBDLDLN  LBDLDNSI  \n",
       "0    111.0     2.870  \n",
       "1    158.0     4.086  \n",
       "2    142.0     3.672  \n",
       "3     79.0     2.043  \n",
       "4     35.0     0.905  "
      ]
     },
     "execution_count": 4,
     "metadata": {},
     "output_type": "execute_result"
    }
   ],
   "source": [
    "trigly = pd.read_sas('TRIGLY_J.XPT')\n",
    "trigly.head()"
   ]
  },
  {
   "cell_type": "code",
   "execution_count": 5,
   "id": "4e41df79",
   "metadata": {},
   "outputs": [],
   "source": [
    "ds = pd.DataFrame(trigly.SEQN)\n",
    "ds['LBXTR'] = pd.DataFrame(trigly.LBXTR)\n",
    "ds = ds.merge(demo)\n",
    "ds = ds[['SEQN','LBXTR','RIAGENDR','RIDAGEYR']]"
   ]
  },
  {
   "cell_type": "code",
   "execution_count": 6,
   "id": "d6bb545f",
   "metadata": {},
   "outputs": [],
   "source": [
    "phy = pd.read_sas('PAQ_J.XPT')\n",
    "phy = phy[~((phy == 9999)|(phy==5555)|(phy==7777)|(phy==6666)).any(axis='columns')]\n",
    "phy = phy[['SEQN','PAD680']]\n",
    "phy = phy.dropna()"
   ]
  },
  {
   "cell_type": "code",
   "execution_count": 7,
   "id": "d07d1205",
   "metadata": {},
   "outputs": [],
   "source": [
    "smq = pd.read_sas('SMQ_J.XPT')\n",
    "smq = smq[['SEQN','SMQ020']]"
   ]
  },
  {
   "cell_type": "code",
   "execution_count": 8,
   "id": "0916ef38",
   "metadata": {},
   "outputs": [],
   "source": [
    "slq = pd.read_sas('SLQ_J.XPT')\n",
    "slq = slq[['SEQN','SLD012']]"
   ]
  },
  {
   "cell_type": "code",
   "execution_count": 9,
   "id": "06e1e5c2",
   "metadata": {},
   "outputs": [],
   "source": [
    "dpq = pd.read_sas('DPQ_J.XPT')\n",
    "dpq['DPQ00'] = dpq['DPQ010'] + dpq['DPQ020'] + dpq['DPQ030'] + dpq['DPQ040'] + dpq['DPQ050'] + dpq['DPQ060'] + dpq['DPQ070'] + dpq['DPQ080'] + dpq['DPQ090']\n",
    "dpq = dpq[['SEQN','DPQ00']]\n",
    "dpq = dpq.dropna()"
   ]
  },
  {
   "cell_type": "code",
   "execution_count": 10,
   "id": "049d0372",
   "metadata": {},
   "outputs": [],
   "source": [
    "dbq = pd.read_sas('DBQ_J.XPT')\n",
    "dbq = dbq[~((dbq == 9999)|(dbq==5555)|(dbq==7777)|(dbq==6666)).any(axis='columns')]\n",
    "dbq = dbq[['SEQN','DBQ700','DBD900']]\n",
    "dbq = dbq.dropna()"
   ]
  },
  {
   "cell_type": "code",
   "execution_count": 11,
   "id": "507d471a",
   "metadata": {},
   "outputs": [],
   "source": [
    "whq = pd.read_sas('WHQ_J.XPT')\n",
    "whq = whq[~((whq == 9999)|(whq==5555)|(whq==7777)|(whq==6666)).any(axis='columns')]\n",
    "whq = whq[['SEQN','WHD020']]\n",
    "whq = whq.dropna()"
   ]
  },
  {
   "cell_type": "code",
   "execution_count": 12,
   "id": "f1be5cd2",
   "metadata": {},
   "outputs": [],
   "source": [
    "# reduce(lambda x,y: pd.merge(x,y), [ds,dbq,phy,smq,dpq,whq,slq])"
   ]
  },
  {
   "cell_type": "code",
   "execution_count": 13,
   "id": "39cd6ff3",
   "metadata": {},
   "outputs": [],
   "source": [
    "ds = pd.DataFrame(trigly.SEQN)\n",
    "ds['LBXTR'] = pd.DataFrame(trigly.LBXTR)\n",
    "ds = ds.merge(demo)\n",
    "ds = ds[['SEQN','LBXTR','RIAGENDR','RIDAGEYR']]\n",
    "ds = ds.merge(dbq)\n",
    "ds = ds.merge(phy)\n",
    "ds = ds.merge(smq)\n",
    "ds = ds.merge(dpq)\n",
    "ds = ds.merge(whq)\n",
    "ds = ds.merge(slq)"
   ]
  },
  {
   "cell_type": "code",
   "execution_count": 14,
   "id": "974c3ded",
   "metadata": {},
   "outputs": [],
   "source": [
    "# using Lasso to select features"
   ]
  },
  {
   "cell_type": "code",
   "execution_count": 15,
   "id": "5a429669",
   "metadata": {},
   "outputs": [],
   "source": [
    "clf = Lasso(random_state=1, max_iter=1000)"
   ]
  },
  {
   "cell_type": "code",
   "execution_count": 16,
   "id": "9034e376",
   "metadata": {},
   "outputs": [],
   "source": [
    "ds = ds.dropna()\n",
    "X = ds[ds.columns[~ds.columns.isin(['SEQN','LBXTR'])]]"
   ]
  },
  {
   "cell_type": "code",
   "execution_count": 17,
   "id": "19c7f93c",
   "metadata": {},
   "outputs": [],
   "source": [
    "y = ds['LBXTR']"
   ]
  },
  {
   "cell_type": "code",
   "execution_count": 18,
   "id": "5cd16063",
   "metadata": {
    "scrolled": true
   },
   "outputs": [
    {
     "data": {
      "text/plain": [
       "Lasso(random_state=1)"
      ]
     },
     "execution_count": 18,
     "metadata": {},
     "output_type": "execute_result"
    }
   ],
   "source": [
    "clf.fit(X,y)"
   ]
  },
  {
   "cell_type": "code",
   "execution_count": 19,
   "id": "8d858a37",
   "metadata": {},
   "outputs": [],
   "source": [
    "# X.columns"
   ]
  },
  {
   "cell_type": "code",
   "execution_count": 20,
   "id": "38f68842",
   "metadata": {},
   "outputs": [],
   "source": [
    "# ['Gender','Age','Healthy Diet','Fastfood','SedentaryActivity','Smoking','Depression','Weight','Sleep']"
   ]
  },
  {
   "cell_type": "code",
   "execution_count": 21,
   "id": "7c47c378",
   "metadata": {},
   "outputs": [],
   "source": [
    "coef = clf.coef_\n",
    "xticks = ['Gender','Age','Healthy Diet','Fastfood','SedentaryActivity','Smoking','Depression','Weight','Sleep']\n",
    "\n",
    "xticks = [xticks[i] for i in np.argsort(coef)]\n",
    "coef = np.sort(coef)"
   ]
  },
  {
   "cell_type": "code",
   "execution_count": 22,
   "id": "fb68ef40",
   "metadata": {
    "scrolled": true
   },
   "outputs": [
    {
     "data": {
      "text/plain": [
       "<BarContainer object of 9 artists>"
      ]
     },
     "execution_count": 22,
     "metadata": {},
     "output_type": "execute_result"
    },
    {
     "data": {
      "image/png": "[encoded data removed]",
      "text/plain": [
       "<Figure size 432x288 with 1 Axes>"
      ]
     },
     "metadata": {
      "needs_background": "light"
     },
     "output_type": "display_data"
    }
   ],
   "source": [
    "plt.barh(xticks,coef)"
   ]
  },
  {
   "cell_type": "code",
   "execution_count": 30,
   "id": "0be8e824",
   "metadata": {},
   "outputs": [],
   "source": [
    "# The load on fastfood and sedentary activity is 0, I chose to drop them in the classification"
   ]
  },
  {
   "cell_type": "code",
   "execution_count": 23,
   "id": "d1356d07",
   "metadata": {},
   "outputs": [],
   "source": [
    "# classfication"
   ]
  },
  {
   "cell_type": "code",
   "execution_count": 24,
   "id": "3e6ba62d",
   "metadata": {},
   "outputs": [],
   "source": [
    "y_class = y>150"
   ]
  },
  {
   "cell_type": "code",
   "execution_count": 25,
   "id": "ce94dde5",
   "metadata": {},
   "outputs": [],
   "source": [
    "newX = X.drop(['DBD900','PAD680'],axis=1)"
   ]
  },
  {
   "cell_type": "code",
   "execution_count": 26,
   "id": "2d730142",
   "metadata": {
    "scrolled": true
   },
   "outputs": [
    {
     "name": "stdout",
     "output_type": "stream",
     "text": [
      "{'learning_rate': 0.3, 'max_depth': 10, 'n_estimators': 200}\n"
     ]
    }
   ],
   "source": [
    "# use grid search CV to find hyperparameters\n",
    "\n",
    "model = xgb.XGBClassifier(scale_pos_weight=5, # ratio: N negative vs N positive\n",
    "                          eval_metric='logloss',\n",
    "                         use_label_encoder=False)\n",
    "param_dict = {'max_depth': [1,2,4,10],\n",
    "              'learning_rate':[0.001, 0.01, 0.1, 0.2, 0.3],\n",
    "             'n_estimators': [50,100,200,400]}\n",
    "\n",
    "scoring = ['accuracy','precision','recall','f1']\n",
    "clf = GridSearchCV(model, param_dict, scoring = scoring,refit = 'accuracy',return_train_score=True) # 5fold by default\n",
    "clf.fit(newX,y_class)\n",
    "print(clf.best_params_)"
   ]
  },
  {
   "cell_type": "code",
   "execution_count": 27,
   "id": "aca42af2",
   "metadata": {},
   "outputs": [
    {
     "name": "stdout",
     "output_type": "stream",
     "text": [
      "Stratified 10 Fold result:\n",
      "Testing Accuracy: 0.7280373090348611\n",
      "Testing Precision: 0.2318355808979147\n",
      "Testing Recall: 0.17727272727272725\n"
     ]
    }
   ],
   "source": [
    "# hyperparameter from grid search\n",
    "model = xgb.XGBClassifier(\n",
    "    max_depth = 10,\n",
    "    learning_rate = 0.3,\n",
    "    n_estimators = 200,\n",
    "    scale_pos_weight=5,\n",
    "    eval_metric='logloss',\n",
    "    use_label_encoder=False)\n",
    "model.fit(newX,y_class)\n",
    "\n",
    "feature_importances = model.feature_importances_\n",
    "\n",
    "cv = RepeatedStratifiedKFold(n_splits=10, n_repeats=3, random_state=1)\n",
    "\n",
    "scoring = ['accuracy','precision','recall']\n",
    "cv_results = cross_validate(model,newX,y_class,scoring=scoring,cv=cv,return_train_score=True)\n",
    "print('Stratified 10 Fold result:')\n",
    "print('Testing Accuracy:',np.mean(cv_results['test_accuracy']))\n",
    "print('Testing Precision:',np.mean(cv_results['test_precision']))\n",
    "print('Testing Recall:',np.mean(cv_results['test_recall']))"
   ]
  },
  {
   "cell_type": "code",
   "execution_count": 31,
   "id": "7479788d",
   "metadata": {},
   "outputs": [],
   "source": [
    "# the scoring metrics are not ideal. it needs more model diagnosis steps"
   ]
  },
  {
   "cell_type": "code",
   "execution_count": 28,
   "id": "70dde427",
   "metadata": {},
   "outputs": [],
   "source": [
    "indices = np.argsort(feature_importances)[::-1]\n",
    "xticks = ['Gender','Age','Healthy Diet','Smoking','Depression','Weight','Sleep']\n",
    "feature_names = xticks"
   ]
  },
  {
   "cell_type": "code",
   "execution_count": 29,
   "id": "f0a59d62",
   "metadata": {
    "scrolled": true
   },
   "outputs": [
    {
     "data": {
      "image/png": "[encoded data removed]",
      "text/plain": [
       "<Figure size 1152x288 with 1 Axes>"
      ]
     },
     "metadata": {
      "needs_background": "light"
     },
     "output_type": "display_data"
    }
   ],
   "source": [
    "plt.figure(figsize=(16,4))\n",
    "plt.title(\"feature importances\")\n",
    "plt.bar(range(len(feature_importances)), feature_importances[indices])\n",
    "plt.xticks(range(len(feature_importances)), np.array(feature_names)[indices]);"
   ]
  },
  {
   "cell_type": "code",
   "execution_count": 32,
   "id": "ceeb366a",
   "metadata": {},
   "outputs": [],
   "source": [
    "# display the feature importance of trees"
   ]
  },
  {
   "cell_type": "code",
   "execution_count": null,
   "id": "7837870a",
   "metadata": {},
   "outputs": [],
   "source": []
  }
 ],
 "metadata": {
  "kernelspec": {
   "display_name": "Python 3",
   "language": "python",
   "name": "python3"
  },
  "language_info": {
   "codemirror_mode": {
    "name": "ipython",
    "version": 3
   },
   "file_extension": ".py",
   "mimetype": "text/x-python",
   "name": "python",
   "nbconvert_exporter": "python",
   "pygments_lexer": "ipython3",
   "version": "3.8.10"
  }
 },
 "nbformat": 4,
 "nbformat_minor": 5
}
